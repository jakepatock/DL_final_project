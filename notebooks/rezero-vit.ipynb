{
 "cells": [
  {
   "cell_type": "code",
   "execution_count": 1,
   "metadata": {
    "execution": {
     "iopub.execute_input": "2024-11-24T04:33:13.395389Z",
     "iopub.status.busy": "2024-11-24T04:33:13.395046Z",
     "iopub.status.idle": "2024-11-24T04:33:40.663395Z",
     "shell.execute_reply": "2024-11-24T04:33:40.662650Z",
     "shell.execute_reply.started": "2024-11-24T04:33:13.395355Z"
    },
    "trusted": true
   },
   "outputs": [
    {
     "name": "stdout",
     "output_type": "stream",
     "text": [
      "Collecting torchtune\n",
      "  Downloading torchtune-0.4.0-py3-none-any.whl.metadata (19 kB)\n",
      "Requirement already satisfied: datasets in /opt/conda/lib/python3.10/site-packages (from torchtune) (3.0.1)\n",
      "Requirement already satisfied: huggingface-hub in /opt/conda/lib/python3.10/site-packages (from torchtune) (0.25.1)\n",
      "Requirement already satisfied: safetensors in /opt/conda/lib/python3.10/site-packages (from torchtune) (0.4.5)\n",
      "Requirement already satisfied: sentencepiece in /opt/conda/lib/python3.10/site-packages (from torchtune) (0.2.0)\n",
      "Collecting tiktoken (from torchtune)\n",
      "  Downloading tiktoken-0.8.0-cp310-cp310-manylinux_2_17_x86_64.manylinux2014_x86_64.whl.metadata (6.6 kB)\n",
      "Collecting blobfile>=2 (from torchtune)\n",
      "  Downloading blobfile-3.0.0-py3-none-any.whl.metadata (15 kB)\n",
      "Requirement already satisfied: numpy in /opt/conda/lib/python3.10/site-packages (from torchtune) (1.26.4)\n",
      "Requirement already satisfied: tqdm in /opt/conda/lib/python3.10/site-packages (from torchtune) (4.66.4)\n",
      "Collecting omegaconf (from torchtune)\n",
      "  Downloading omegaconf-2.3.0-py3-none-any.whl.metadata (3.9 kB)\n",
      "Requirement already satisfied: psutil in /opt/conda/lib/python3.10/site-packages (from torchtune) (5.9.3)\n",
      "Requirement already satisfied: Pillow>=9.4.0 in /opt/conda/lib/python3.10/site-packages (from torchtune) (10.3.0)\n",
      "Collecting pycryptodomex>=3.8 (from blobfile>=2->torchtune)\n",
      "  Downloading pycryptodomex-3.21.0-cp36-abi3-manylinux_2_17_x86_64.manylinux2014_x86_64.whl.metadata (3.4 kB)\n",
      "Requirement already satisfied: urllib3<3,>=1.25.3 in /opt/conda/lib/python3.10/site-packages (from blobfile>=2->torchtune) (1.26.18)\n",
      "Requirement already satisfied: lxml>=4.9 in /opt/conda/lib/python3.10/site-packages (from blobfile>=2->torchtune) (5.3.0)\n",
      "Requirement already satisfied: filelock>=3.0 in /opt/conda/lib/python3.10/site-packages (from blobfile>=2->torchtune) (3.15.1)\n",
      "Requirement already satisfied: pyarrow>=15.0.0 in /opt/conda/lib/python3.10/site-packages (from datasets->torchtune) (16.1.0)\n",
      "Requirement already satisfied: dill<0.3.9,>=0.3.0 in /opt/conda/lib/python3.10/site-packages (from datasets->torchtune) (0.3.8)\n",
      "Requirement already satisfied: pandas in /opt/conda/lib/python3.10/site-packages (from datasets->torchtune) (2.2.2)\n",
      "Requirement already satisfied: requests>=2.32.2 in /opt/conda/lib/python3.10/site-packages (from datasets->torchtune) (2.32.3)\n",
      "Requirement already satisfied: xxhash in /opt/conda/lib/python3.10/site-packages (from datasets->torchtune) (3.4.1)\n",
      "Requirement already satisfied: multiprocess in /opt/conda/lib/python3.10/site-packages (from datasets->torchtune) (0.70.16)\n",
      "Requirement already satisfied: fsspec<=2024.6.1,>=2023.1.0 in /opt/conda/lib/python3.10/site-packages (from fsspec[http]<=2024.6.1,>=2023.1.0->datasets->torchtune) (2024.6.1)\n",
      "Requirement already satisfied: aiohttp in /opt/conda/lib/python3.10/site-packages (from datasets->torchtune) (3.9.5)\n",
      "Requirement already satisfied: packaging in /opt/conda/lib/python3.10/site-packages (from datasets->torchtune) (21.3)\n",
      "Requirement already satisfied: pyyaml>=5.1 in /opt/conda/lib/python3.10/site-packages (from datasets->torchtune) (6.0.2)\n",
      "Requirement already satisfied: typing-extensions>=3.7.4.3 in /opt/conda/lib/python3.10/site-packages (from huggingface-hub->torchtune) (4.12.2)\n",
      "Collecting antlr4-python3-runtime==4.9.* (from omegaconf->torchtune)\n",
      "  Downloading antlr4-python3-runtime-4.9.3.tar.gz (117 kB)\n",
      "\u001b[2K     \u001b[90m━━━━━━━━━━━━━━━━━━━━━━━━━━━━━━━━━━━━━━━\u001b[0m \u001b[32m117.0/117.0 kB\u001b[0m \u001b[31m3.5 MB/s\u001b[0m eta \u001b[36m0:00:00\u001b[0m\n",
      "\u001b[?25h  Preparing metadata (setup.py) ... \u001b[?25ldone\n",
      "\u001b[?25hRequirement already satisfied: regex>=2022.1.18 in /opt/conda/lib/python3.10/site-packages (from tiktoken->torchtune) (2024.5.15)\n",
      "Requirement already satisfied: aiosignal>=1.1.2 in /opt/conda/lib/python3.10/site-packages (from aiohttp->datasets->torchtune) (1.3.1)\n",
      "Requirement already satisfied: attrs>=17.3.0 in /opt/conda/lib/python3.10/site-packages (from aiohttp->datasets->torchtune) (23.2.0)\n",
      "Requirement already satisfied: frozenlist>=1.1.1 in /opt/conda/lib/python3.10/site-packages (from aiohttp->datasets->torchtune) (1.4.1)\n",
      "Requirement already satisfied: multidict<7.0,>=4.5 in /opt/conda/lib/python3.10/site-packages (from aiohttp->datasets->torchtune) (6.0.5)\n",
      "Requirement already satisfied: yarl<2.0,>=1.0 in /opt/conda/lib/python3.10/site-packages (from aiohttp->datasets->torchtune) (1.9.4)\n",
      "Requirement already satisfied: async-timeout<5.0,>=4.0 in /opt/conda/lib/python3.10/site-packages (from aiohttp->datasets->torchtune) (4.0.3)\n",
      "Requirement already satisfied: pyparsing!=3.0.5,>=2.0.2 in /opt/conda/lib/python3.10/site-packages (from packaging->datasets->torchtune) (3.1.2)\n",
      "Requirement already satisfied: charset-normalizer<4,>=2 in /opt/conda/lib/python3.10/site-packages (from requests>=2.32.2->datasets->torchtune) (3.3.2)\n",
      "Requirement already satisfied: idna<4,>=2.5 in /opt/conda/lib/python3.10/site-packages (from requests>=2.32.2->datasets->torchtune) (3.7)\n",
      "Requirement already satisfied: certifi>=2017.4.17 in /opt/conda/lib/python3.10/site-packages (from requests>=2.32.2->datasets->torchtune) (2024.8.30)\n",
      "Requirement already satisfied: python-dateutil>=2.8.2 in /opt/conda/lib/python3.10/site-packages (from pandas->datasets->torchtune) (2.9.0.post0)\n",
      "Requirement already satisfied: pytz>=2020.1 in /opt/conda/lib/python3.10/site-packages (from pandas->datasets->torchtune) (2024.1)\n",
      "Requirement already satisfied: tzdata>=2022.7 in /opt/conda/lib/python3.10/site-packages (from pandas->datasets->torchtune) (2024.1)\n",
      "Requirement already satisfied: six>=1.5 in /opt/conda/lib/python3.10/site-packages (from python-dateutil>=2.8.2->pandas->datasets->torchtune) (1.16.0)\n",
      "Downloading torchtune-0.4.0-py3-none-any.whl (686 kB)\n",
      "\u001b[2K   \u001b[90m━━━━━━━━━━━━━━━━━━━━━━━━━━━━━━━━━━━━━━━━\u001b[0m \u001b[32m686.9/686.9 kB\u001b[0m \u001b[31m13.0 MB/s\u001b[0m eta \u001b[36m0:00:00\u001b[0m00:01\u001b[0m\n",
      "\u001b[?25hDownloading blobfile-3.0.0-py3-none-any.whl (75 kB)\n",
      "\u001b[2K   \u001b[90m━━━━━━━━━━━━━━━━━━━━━━━━━━━━━━━━━━━━━━━━\u001b[0m \u001b[32m75.4/75.4 kB\u001b[0m \u001b[31m3.0 MB/s\u001b[0m eta \u001b[36m0:00:00\u001b[0m\n",
      "\u001b[?25hDownloading omegaconf-2.3.0-py3-none-any.whl (79 kB)\n",
      "\u001b[2K   \u001b[90m━━━━━━━━━━━━━━━━━━━━━━━━━━━━━━━━━━━━━━━━\u001b[0m \u001b[32m79.5/79.5 kB\u001b[0m \u001b[31m3.8 MB/s\u001b[0m eta \u001b[36m0:00:00\u001b[0m\n",
      "\u001b[?25hDownloading tiktoken-0.8.0-cp310-cp310-manylinux_2_17_x86_64.manylinux2014_x86_64.whl (1.2 MB)\n",
      "\u001b[2K   \u001b[90m━━━━━━━━━━━━━━━━━━━━━━━━━━━━━━━━━━━━━━━━\u001b[0m \u001b[32m1.2/1.2 MB\u001b[0m \u001b[31m33.0 MB/s\u001b[0m eta \u001b[36m0:00:00\u001b[0m00:01\u001b[0m\n",
      "\u001b[?25hDownloading pycryptodomex-3.21.0-cp36-abi3-manylinux_2_17_x86_64.manylinux2014_x86_64.whl (2.3 MB)\n",
      "\u001b[2K   \u001b[90m━━━━━━━━━━━━━━━━━━━━━━━━━━━━━━━━━━━━━━━━\u001b[0m \u001b[32m2.3/2.3 MB\u001b[0m \u001b[31m60.2 MB/s\u001b[0m eta \u001b[36m0:00:00\u001b[0m:00:01\u001b[0m\n",
      "\u001b[?25hBuilding wheels for collected packages: antlr4-python3-runtime\n",
      "  Building wheel for antlr4-python3-runtime (setup.py) ... \u001b[?25ldone\n",
      "\u001b[?25h  Created wheel for antlr4-python3-runtime: filename=antlr4_python3_runtime-4.9.3-py3-none-any.whl size=144554 sha256=ed3e89a534eed930c69db5ef7ee4217838b309dd69784a2cd3a36aa7a8be1533\n",
      "  Stored in directory: /root/.cache/pip/wheels/12/93/dd/1f6a127edc45659556564c5730f6d4e300888f4bca2d4c5a88\n",
      "Successfully built antlr4-python3-runtime\n",
      "Installing collected packages: antlr4-python3-runtime, pycryptodomex, omegaconf, tiktoken, blobfile, torchtune\n",
      "Successfully installed antlr4-python3-runtime-4.9.3 blobfile-3.0.0 omegaconf-2.3.0 pycryptodomex-3.21.0 tiktoken-0.8.0 torchtune-0.4.0\n",
      "Collecting torchao\n",
      "  Downloading torchao-0.6.1-cp310-cp310-manylinux_2_17_x86_64.manylinux2014_x86_64.whl.metadata (13 kB)\n",
      "Downloading torchao-0.6.1-cp310-cp310-manylinux_2_17_x86_64.manylinux2014_x86_64.whl (2.2 MB)\n",
      "\u001b[2K   \u001b[90m━━━━━━━━━━━━━━━━━━━━━━━━━━━━━━━━━━━━━━━━\u001b[0m \u001b[32m2.2/2.2 MB\u001b[0m \u001b[31m22.8 MB/s\u001b[0m eta \u001b[36m0:00:00\u001b[0ma \u001b[36m0:00:01\u001b[0m\n",
      "\u001b[?25hInstalling collected packages: torchao\n",
      "Successfully installed torchao-0.6.1\n"
     ]
    }
   ],
   "source": [
    "!pip install torchtune\n",
    "!pip install torchao\n",
    "import torch.nn as nn\n",
    "import torch\n",
    "import numpy as np\n",
    "import random\n",
    "import math\n",
    "import os\n",
    "import torchtune.modules as ttm\n",
    "import time\n",
    "import tqdm\n",
    "from sklearn.metrics import recall_score, precision_score\n",
    "import json\n",
    "import matplotlib.pyplot as plt"
   ]
  },
  {
   "cell_type": "code",
   "execution_count": 2,
   "metadata": {
    "execution": {
     "iopub.execute_input": "2024-11-24T04:33:40.665516Z",
     "iopub.status.busy": "2024-11-24T04:33:40.665085Z",
     "iopub.status.idle": "2024-11-24T04:33:40.671074Z",
     "shell.execute_reply": "2024-11-24T04:33:40.670215Z",
     "shell.execute_reply.started": "2024-11-24T04:33:40.665490Z"
    },
    "trusted": true
   },
   "outputs": [],
   "source": [
    "def seed(seed=1):\n",
    "    global rank   \n",
    "    global random_seed \n",
    "    random_seed = seed\n",
    "    #lib seeds\n",
    "    torch.manual_seed(random_seed)\n",
    "    torch.cuda.manual_seed_all(random_seed)\n",
    "    torch.backends.cudnn.deterministic = True\n",
    "    torch.backends.cudnn.benchmark = False\n",
    "    np.random.seed(random_seed)\n",
    "    random.seed(random_seed)\n",
    "    os.environ['PYTHONHASHSEED'] = str(random_seed)\n",
    "    rank = torch.device(\"cuda\" if torch.cuda.is_available() else \"cpu\")\n",
    "\n",
    "    #determinstic vars \n",
    "    torch.backends.cudnn.deterministic = True\n",
    "    torch.backends.cudnn.benchmark = False"
   ]
  },
  {
   "cell_type": "code",
   "execution_count": 3,
   "metadata": {
    "execution": {
     "iopub.execute_input": "2024-11-24T04:33:40.672400Z",
     "iopub.status.busy": "2024-11-24T04:33:40.672152Z",
     "iopub.status.idle": "2024-11-24T04:33:40.688065Z",
     "shell.execute_reply": "2024-11-24T04:33:40.687463Z",
     "shell.execute_reply.started": "2024-11-24T04:33:40.672377Z"
    },
    "trusted": true
   },
   "outputs": [],
   "source": [
    "def create_loaders(rank, batch_size=16):\n",
    "    # Load the tensors from files\n",
    "    train_images = torch.load(r'/kaggle/input/imagenet-10/image_net_10/train_images.pt', weights_only=True)\n",
    "    train_labels = torch.load(r'/kaggle/input/imagenet-10/image_net_10/train_labels.pt', weights_only=True)\n",
    "\n",
    "    val_images = torch.load(r'/kaggle/input/imagenet-10/image_net_10/val_images.pt', weights_only=True)\n",
    "    val_labels = torch.load(r'/kaggle/input/imagenet-10/image_net_10/val_labels.pt', weights_only=True)\n",
    "\n",
    "    test_images = torch.load(r'/kaggle/input/imagenet-10/image_net_10/test_images.pt', weights_only=True)\n",
    "    test_labels = torch.load(r'/kaggle/input/imagenet-10/image_net_10/test_labels.pt', weights_only=True)\n",
    "\n",
    "    train_dataset = torch.utils.data.TensorDataset(train_images.float(), train_labels.long())\n",
    "    val_dataset = torch.utils.data.TensorDataset(val_images.float(), val_labels.long())\n",
    "    test_dataset = torch.utils.data.TensorDataset(test_images.float(), test_labels.long())\n",
    "\n",
    "\n",
    "\n",
    "    def collate_gpu(batch):\n",
    "        return (ele.to(rank) for ele in torch.utils.data.default_collate(batch))\n",
    "    \n",
    "    num_workers = 0\n",
    "    persistent_workers = False\n",
    "    #dataloaders \n",
    "    train_loader = torch.utils.data.DataLoader(train_dataset, batch_size=batch_size, num_workers=num_workers, persistent_workers=persistent_workers, shuffle=True, collate_fn=collate_gpu)\n",
    "    val_loader = torch.utils.data.DataLoader(val_dataset, batch_size=batch_size, num_workers=num_workers, persistent_workers=persistent_workers, collate_fn=collate_gpu)\n",
    "    test_loader = torch.utils.data.DataLoader(test_dataset, batch_size=batch_size, num_workers=num_workers, persistent_workers=persistent_workers, collate_fn=collate_gpu)\n",
    "\n",
    "    return train_loader, val_loader, test_loader"
   ]
  },
  {
   "cell_type": "code",
   "execution_count": 4,
   "metadata": {
    "execution": {
     "iopub.execute_input": "2024-11-24T04:33:40.690123Z",
     "iopub.status.busy": "2024-11-24T04:33:40.689836Z",
     "iopub.status.idle": "2024-11-24T04:33:40.707120Z",
     "shell.execute_reply": "2024-11-24T04:33:40.706274Z",
     "shell.execute_reply.started": "2024-11-24T04:33:40.690099Z"
    },
    "trusted": true
   },
   "outputs": [],
   "source": [
    "from copy import deepcopy\n",
    "class EarlyStoppingLoss():\n",
    "    def __init__(self, patience):\n",
    "        self._patience = patience\n",
    "        self.current_patience = 0\n",
    "        self.min_loss = float('inf')\n",
    "        self.val_accuracy = None\n",
    "        self.min_state_dict = None\n",
    "        self.train_loss = None\n",
    "        self.train_accuracy = None\n",
    "        self.epoch = 0\n",
    "        self.kept_epoch = None\n",
    "\n",
    "    def stopper(self, current_model, train_loss, val_loss, train_accuracy=None, val_accuracy=None, val_f1=None, val_recall=None, val_precision=None):\n",
    "        self.epoch += 1\n",
    "        if val_loss < self.min_loss:\n",
    "            self.train_loss = train_loss\n",
    "            self.min_loss = val_loss\n",
    "            \n",
    "            self.train_accuracy = train_accuracy\n",
    "            self.val_accuracy = val_accuracy\n",
    "\n",
    "            self.val_recall = val_recall\n",
    "            self.val_precision = val_precision\n",
    "\n",
    "            self.val_f1 = val_f1 \n",
    "\n",
    "            self.current_patience = 0\n",
    "            self.min_state_dict = deepcopy({key: value.cpu() for key, value in current_model.state_dict().items()})\n",
    "            self.kept_epoch = self.epoch\n",
    "            \n",
    "        else:\n",
    "            self.current_patience += 1\n",
    "        \n",
    "        if self.current_patience >= self._patience:\n",
    "            return True\n",
    "        else:\n",
    "            return False\n",
    "        \n",
    "    def get_state_dict(self):\n",
    "        return self.min_state_dict  \n",
    "    \n",
    "    def get_current_patience(self):\n",
    "        return self.current_patience\n",
    "    \n",
    "    def get_min_loss(self):\n",
    "        return self.min_loss\n",
    "    \n",
    "    def get_kept_epoch(self):\n",
    "        return self.kept_epoch\n",
    "    \n",
    "    def get_final_stats(self):\n",
    "        if self.val_f1 != None:\n",
    "            return self.kept_epoch, self.train_loss, self.min_loss, self.train_accuracy, self.val_accuracy, self.val_f1\n",
    "        elif self.val_recall != None and self.val_precision != None:\n",
    "            return self.kept_epoch, self.train_loss, self.min_loss, self.train_accuracy, self.val_accuracy, self.val_recall, self.val_precision\n",
    "        else:\n",
    "            self.kept_epoch, self.train_loss, self.min_loss, self.train_accuracy, self.val_accuracy,"
   ]
  },
  {
   "cell_type": "code",
   "execution_count": null,
   "metadata": {
    "execution": {
     "iopub.execute_input": "2024-11-24T04:33:40.708582Z",
     "iopub.status.busy": "2024-11-24T04:33:40.708349Z",
     "iopub.status.idle": "2024-11-24T04:33:40.742503Z",
     "shell.execute_reply": "2024-11-24T04:33:40.741765Z",
     "shell.execute_reply.started": "2024-11-24T04:33:40.708560Z"
    },
    "trusted": true
   },
   "outputs": [],
   "source": [
    "def train(model, train_loader, val_loader, loss_func, optimizer, early_stopper, lr_scheduler, num_epochs, use_progress_bar=True, epoch_checkpoints_path=None):\n",
    "    #list to track metrics\n",
    "    train_loss_lst = []\n",
    "    val_loss_lst = []\n",
    "    train_accuracy_lst = []\n",
    "    val_accuracy_lst = []\n",
    "    val_recall_lst = []\n",
    "    val_precision_lst = []\n",
    "   \n",
    "    #logging lst \n",
    "    logging_str = ''\n",
    "        \n",
    "    #timing training \n",
    "    start_total_time = time.time()\n",
    "    \n",
    "    #training loop\n",
    "    epoch = 0\n",
    "    for _ in range(num_epochs):\n",
    "        ##TRAINING##\n",
    "        model.train()\n",
    "\n",
    "        #init running vars \n",
    "        train_running_loss = 0 \n",
    "        #init accuracy vars\n",
    "        train_correct_preds = 0\n",
    "\n",
    "        #epoch start time \n",
    "        start_epoch_time = time.time()\n",
    "\n",
    "        for step, (images, labels) in tqdm.tqdm(enumerate(train_loader), total=len(train_loader), mininterval=30, disable=not use_progress_bar):\n",
    "            #clear grad\n",
    "            optimizer.zero_grad()\n",
    "\n",
    "            # Get model predictions\n",
    "            train_preds = model(images)\n",
    "  \n",
    "            # Calculate loss\n",
    "            train_batch_loss = loss_func(train_preds, labels)\n",
    "            \n",
    "            #incrmenting running loss \n",
    "            train_running_loss += train_batch_loss.item()\n",
    "            \n",
    "            #grad and backprop\n",
    "            train_batch_loss.backward()\n",
    "            optimizer.step()\n",
    "            \n",
    "            if isinstance(loss_func, nn.CrossEntropyLoss):\n",
    "                #calculating accuracy \n",
    "                train_correct_preds += (torch.argmax(train_preds, dim=-1) == labels).sum().item()\n",
    "            else:\n",
    "                #calculating accuracy \n",
    "                train_correct_preds += (torch.round(torch.sigmoid(train_preds)) == labels).sum().item()\n",
    "\n",
    "        #dividing the loss and correct preds by total samples to yield average \n",
    "        train_loss = train_running_loss / len(train_loader)\n",
    "        #calaculting the accuracy for this epoch \n",
    "        train_accuracy = train_correct_preds / len(train_loader.dataset)\n",
    "\n",
    "        ##VALIDATION##\n",
    "        model.eval()\n",
    "        #init running vars\n",
    "        val_running_loss = 0\n",
    "        #init accuracy vars\n",
    "        val_correct_preds = 0\n",
    "\n",
    "        #f1 vars \n",
    "        cat_preds = np.array([], dtype=np.int8)\n",
    "        cat_labels = np.array([], dtype=np.int8)\n",
    "\n",
    "        with torch.no_grad():\n",
    "            for images, labels in val_loader:\n",
    "                \n",
    "                #getting batch preds\n",
    "                val_preds = model(images)\n",
    "\n",
    "                #getting loss \n",
    "                val_batch_loss = loss_func(val_preds, labels)\n",
    "                    \n",
    "                #incrmenting running loss \n",
    "                val_running_loss += val_batch_loss.item()\n",
    "\n",
    "                if isinstance(loss_func, nn.CrossEntropyLoss):\n",
    "                    val_cls_preds = torch.argmax(val_preds, dim=-1)\n",
    "                    #calculating accuracy \n",
    "                    val_correct_preds += (val_cls_preds == labels).sum().item()\n",
    "                    #filling f1 arrays \n",
    "                    cat_preds = np.concatenate((cat_preds, val_cls_preds.cpu().numpy().astype(np.int8)))\n",
    "                    cat_labels = np.concatenate((cat_labels, labels.view(-1).cpu().numpy().astype(np.int8)))\n",
    "                \n",
    "                else:\n",
    "                    val_cls_preds = torch.round(torch.sigmoid(val_preds))\n",
    "                    #calculating accuracy \n",
    "                    val_correct_preds += (val_cls_preds == labels).sum().item()\n",
    "                    #filling f1 arrays \n",
    "                    cat_preds = np.concatenate((cat_preds, val_cls_preds.cpu().numpy().astype(np.int8)))\n",
    "                    cat_labels = np.concatenate((cat_labels, labels.view(-1).cpu().numpy().astype(np.int8)))\n",
    "\n",
    "            #dividing the loss and correct preds by total samples to yield average \n",
    "            val_loss = val_running_loss / len(val_loader)\n",
    "            #calaculting the accuracy for this epoch \n",
    "            val_accuracy = val_correct_preds / len(val_loader.dataset) \n",
    "            #val f1 \n",
    "            val_recall = recall_score(cat_labels, cat_preds, average='macro')\n",
    "            val_precision = precision_score(cat_labels, cat_preds, average='macro')\n",
    "\n",
    "            #lr scheduler step \n",
    "            lr_scheduler.step(val_loss)\n",
    "\n",
    "        #getting end of epoch time \n",
    "        end_epoch_time = time.time()\n",
    "        \n",
    "        #printing all the status from the epoch \n",
    "        epoch += 1\n",
    "        print(f'\\nEpoch {epoch}')\n",
    "        print(f'Train:      Loss = {train_loss:.16f}, Accuracy = {train_accuracy:.16f}')\n",
    "        logging_str += f'Epoch {epoch}\\nTrain:      Loss = {train_loss:.16f}, Accuracy = {train_accuracy:.16f}\\n'\n",
    "        print(f'Validation: Loss = {val_loss:.16f}, Accuracy = {val_accuracy:.16f}, Recall = {val_recall:.16f}, Precision = {val_precision:.16f}')\n",
    "        print(f'Epoch Time: {round(end_epoch_time - start_epoch_time)} Seconds')\n",
    "        logging_str += f'Validation: Loss = {val_loss:.16f}, Accuracy = {val_accuracy:.16f}, Recall = {val_recall:.16f}, Precision = {val_precision:.16f}\\nEpoch Time: {round(end_epoch_time - start_epoch_time)} Seconds\\n'\n",
    "        \n",
    "        #updating training lists \n",
    "        train_loss_lst.append(train_loss)\n",
    "        val_loss_lst.append(val_loss)\n",
    "        train_accuracy_lst.append(train_accuracy)\n",
    "        val_accuracy_lst.append(val_accuracy)\n",
    "        val_recall_lst.append(val_recall)\n",
    "        val_precision_lst.append(val_precision)\n",
    "    \n",
    "        if epoch_checkpoints_path is not None:\n",
    "            torch.save(model.state_dict(), epoch_checkpoints_path + f'_epoch_{epoch}_checkpoint.pth')\n",
    "\n",
    "        #earlier stopper condition check to see if the pacients of the model has run out \n",
    "        #if it has revert model to highest f1 \n",
    "        if early_stopper.stopper(model, train_loss, val_loss, train_accuracy=train_accuracy, val_accuracy=val_accuracy, val_recall=val_recall, val_precision=val_precision):\n",
    "            kept_epoch, final_train_loss, final_val_loss, final_train_accuracy, final_val_accuracy, final_val_recall, final_val_precision = early_stopper.get_final_stats()\n",
    "            print(f'Current Patience: {early_stopper.get_current_patience()}')\n",
    "            print()\n",
    "            print('Early Stopper Triggered')\n",
    "            print(f'Kept Epoch: {kept_epoch}\\nTrain Loss = {final_train_loss:.16f}, Accuracy = {final_train_accuracy:.16f}\\nVal   Loss = {final_val_loss:.16f}, Accuracy = {final_val_accuracy:.16f}, Recall = {final_val_recall:.16f}, Precision = {final_val_precision:.16f}')\n",
    "            logging_str += f'Current Patience: {early_stopper.get_current_patience()}\\n\\nEarly Stopper Triggered\\nKept Epoch: {kept_epoch}\\nTrain Loss {final_train_loss:.16f}, Accuracy = {final_train_accuracy:.16f}  \\nVal   Loss = {final_val_loss:.16f}, Accuracy = {final_val_accuracy:.16f}, Recall = {final_val_recall:.16f}, Precision = {final_val_precision:.16f}\\n'\n",
    "            break\n",
    "        else:\n",
    "            print(f'Current Patience: {early_stopper.get_current_patience()}')\n",
    "            print()\n",
    "            logging_str += f'Current Patience: {early_stopper.get_current_patience()}\\n\\n'\n",
    "            #loading optimal model\n",
    "            state_dict = early_stopper.get_state_dict()\n",
    "            model.load_state_dict(state_dict)\n",
    "\n",
    "    #loading optimal model using early stopper after training \n",
    "    state_dict = early_stopper.get_state_dict()\n",
    "    model.load_state_dict(state_dict)\n",
    "\n",
    "    #total train time end \n",
    "    end_total_time = time.time()\n",
    "    total_train_time = round(end_total_time - start_total_time)\n",
    "    #printing final_stats and train time \n",
    "    print(f'Total Training Time: {total_train_time} Seconds')\n",
    "    logging_str += f'Total Training Time {total_train_time} Seconds'\n",
    "\n",
    "    #getting history of training \n",
    "    history_dict = {'train_loss_lst': train_loss_lst, 'val_loss_lst': val_loss_lst, 'train_accuracy_lst': train_accuracy_lst, \n",
    "                    'val_accuracy_lst': val_accuracy_lst, 'val_recall_lst': val_recall_lst, 'val_precision_lst': val_precision_lst}\n",
    "    \n",
    "    #controling for if early stopper does not finish\n",
    "    if 'kept_epoch' not in locals():\n",
    "        kept_epoch, final_train_loss, final_val_loss, final_train_accuracy, final_val_accuracy, final_val_recall, final_val_precision = early_stopper.get_final_stats()\n",
    "        \n",
    "    #getting stats of final model \n",
    "    final_stats_dict = {'kept_epoch': kept_epoch, 'train_loss': final_train_loss, 'val_loss': final_val_loss, 'train_accuracy': final_train_accuracy, \n",
    "                        'val_accuracy': final_val_accuracy, 'val_recall': final_val_recall, 'val_precision': final_val_precision, 'total_train_time': total_train_time}\n",
    "    \n",
    "    return model, history_dict, final_stats_dict, logging_str\n",
    "\n",
    "def test(model, test_loader, loss_func):\n",
    "    start_time = time.time()\n",
    "    \n",
    "    model.eval()\n",
    "    ##TEST##\n",
    "    #init running vars\n",
    "    test_running_loss = 0\n",
    "    #init accuracy vars\n",
    "    test_correct_preds = 0\n",
    "\n",
    "    #f1 vars \n",
    "    cat_preds = np.array([], dtype=np.int8)\n",
    "    cat_labels = np.array([], dtype=np.int8)\n",
    "    \n",
    "    with torch.no_grad():\n",
    "        for images, labels in test_loader:\n",
    "\n",
    "            #getting batch preds\n",
    "            test_preds = model(images)\n",
    "\n",
    "            #getting loss \n",
    "            test_batch_loss = loss_func(test_preds, labels)\n",
    "\n",
    "            #incrmenting running loss \n",
    "            test_running_loss += test_batch_loss.item() \n",
    "\n",
    "            if isinstance(loss_func, nn.CrossEntropyLoss):\n",
    "                test_cls_preds = torch.argmax(test_preds, dim=-1)\n",
    "                #calculating accuracy \n",
    "                test_correct_preds += (test_cls_preds == labels).sum().item()\n",
    "                #filling f1 arrays \n",
    "                cat_preds = np.concatenate((cat_preds, test_cls_preds.cpu().numpy().astype(np.int8)))\n",
    "                cat_labels = np.concatenate((cat_labels, labels.view(-1).cpu().numpy().astype(np.int8)))\n",
    "            else:\n",
    "                test_cls_preds = torch.round(torch.sigmoid(test_preds))\n",
    "                #calculating accuracy \n",
    "                test_correct_preds += (test_cls_preds == labels).sum().item()\n",
    "                #filling f1 arrays \n",
    "                cat_preds = np.concatenate((cat_preds, test_cls_preds.cpu().numpy().astype(np.int8)))\n",
    "                cat_labels = np.concatenate((cat_labels, labels.view(-1).cpu().numpy().astype(np.int8)))               \n",
    " \n",
    "        #dividing the loss and correct preds by total samples to yield average \n",
    "        test_loss = test_running_loss / len(test_loader)\n",
    "        #calaculting the accuracy for this epoch \n",
    "        test_accuracy = test_correct_preds / len(test_loader.dataset)\n",
    "        #test f1 \n",
    "        test_recall = recall_score(cat_labels, cat_preds, average='macro')\n",
    "        test_precision = precision_score(cat_labels, cat_preds, average='macro')\n",
    "\n",
    "        stop_time = time.time()\n",
    "        inference_time = stop_time - start_time\n",
    "        \n",
    "        #printing to consel\n",
    "        print()\n",
    "        print(f'Test: Loss = {test_loss:.16f}, Accuracy = {test_accuracy:.16f}, Recall = {test_recall:.16f}, Precision = {test_precision:.16f}')\n",
    "        print(f'Total Inference Time: {inference_time} Seconds')\n",
    "\n",
    "    return {'test_loss': test_loss, 'test_accuracy': test_accuracy, 'test_recall': test_recall, 'test_precision': test_precision}\n",
    "\n",
    "def plot(history_dict, final_stats_dict, test_dict):\n",
    "    fig, (ax1, ax2, ax3, ax4) = plt.subplots(1, 4, figsize=(24,6))\n",
    "\n",
    "    epochs = np.arange(len(history_dict['train_loss_lst'])) + 1\n",
    "    kept_epoch = final_stats_dict['kept_epoch']\n",
    "\n",
    "    #ploting loss \n",
    "    ax1.plot(epochs, history_dict['train_loss_lst'], label='Train Loss')\n",
    "    ax1.plot(epochs, history_dict['val_loss_lst'], label='Val Loss')\n",
    "    ax1.axhline(test_dict['test_loss'], color='r', linestyle='--', label='Test Loss')\n",
    "    ax1.axvline(kept_epoch, color='g', linestyle='--', label='Kept Epoch')\n",
    "    ax1.text(0.5, -0.2, f\"Kept Epoch: {final_stats_dict['kept_epoch']}\\n Train Loss: {final_stats_dict['train_loss']:.4f}, Val Loss: {final_stats_dict['val_loss']:.4f}, Test Loss: {test_dict['test_loss']:.4f}\", ha='center', va='center', transform=ax1.transAxes)\n",
    "    plt.xticks(np.arange(min(epochs), max(epochs)+1, 2))    \n",
    "    ax1.set_xlabel('Epochs')\n",
    "    ax1.set_ylabel('Loss')\n",
    "    ax1.legend()\n",
    "    ax1.set_title('Loss Over Epochs')\n",
    "\n",
    "    #train vs val accuracy \n",
    "    ax2.plot(epochs, history_dict['train_accuracy_lst'], label=\"Train Accuracy Over Epochs\")\n",
    "    ax2.plot(epochs, history_dict['val_accuracy_lst'], label='Val Accuracy Over Epochs')\n",
    "    ax2.set_xlabel('Epoch')\n",
    "    ax2.set_ylabel('Accuracy')\n",
    "    ax2.set_ylim(0, 1.1)\n",
    "    ax2.axvline(x=kept_epoch, color='green', linestyle='--', label=\"Saved Epoch\")\n",
    "    ax2.axhline(y=test_dict['test_accuracy'], color='r', linestyle='--', label='Test Accuracy')\n",
    "    ax2.text(0.5, -0.2, f\"Kept Epoch: {final_stats_dict['kept_epoch']}\\n Train Accuracy: {final_stats_dict['train_accuracy']:.4f}, Val Accuracy: {final_stats_dict['val_accuracy']:.4f}, Test Accuracy: {test_dict['test_accuracy']:.4f}\", ha='center', va='center', transform=ax2.transAxes)\n",
    "    ax2.set_title('Accuracy Over Epochs')\n",
    "    ax2.legend()\n",
    "\n",
    "    #recall\n",
    "    ax3.plot(epochs, history_dict['val_recall_lst'], label='Val Recall Score', color='orange')\n",
    "    ax3.set_xlabel('Epoch')\n",
    "    ax3.set_ylabel('Recall Score')\n",
    "    ax3.set_ylim(0, 1.1)\n",
    "    ax3.axvline(x=kept_epoch, color='green', linestyle='--', label=\"Saved Epoch\")\n",
    "    ax3.axhline(y=test_dict['test_recall'], color='r', linestyle='--', label='Test Recall')\n",
    "    ax3.text(0.5, -0.2, f\"Kept Epoch: {final_stats_dict['kept_epoch']}\\n Val Recall: {final_stats_dict['val_recall']:.4f}, Test Recall: {test_dict['test_recall']:.4f}\", ha='center', va='center', transform=ax3.transAxes)\n",
    "    ax3.set_title('Recall Over Epochs')\n",
    "    ax3.legend()\n",
    "\n",
    "    #precision\n",
    "    ax4.plot(epochs, history_dict['val_precision_lst'], label='Val Precision Score', color='orange')\n",
    "    ax4.set_xlabel('Epoch')\n",
    "    ax4.set_ylabel('Precision Score')\n",
    "    ax4.set_ylim(0, 1.1)\n",
    "    ax4.axvline(x=kept_epoch, color='green', linestyle='--', label=\"Saved Epoch\")\n",
    "    ax4.axhline(y=test_dict['test_precision'], color='r', linestyle='--', label='Test Precision')\n",
    "    ax4.text(0.5, -0.2, f\"Kept Epoch: {final_stats_dict['kept_epoch']}\\n Val Precision: {final_stats_dict['val_precision']:.4f}, Test Precision: {test_dict['test_precision']:.4f}\", ha='center', va='center', transform=ax4.transAxes)\n",
    "    ax4.set_title('Precision Over Epochs')\n",
    "    ax4.legend()\n",
    "\n",
    "    fig.text(.5, .92, f\"Total Train Time {(final_stats_dict['total_train_time'] / 60):.0f} Minutes\", ha='center')\n",
    "    fig.suptitle(f'Loss and Accuracy Over Epochs')\n",
    "\n",
    "    return fig \n",
    "\n",
    "def save_model(path, fig, config, model, logging_str):\n",
    "    #saving stuff\n",
    "    fig.savefig(path + rf'.png', bbox_inches='tight')\n",
    "    with open(path + rf'_config.json', 'w') as file:\n",
    "        json.dump(config, file)\n",
    "\n",
    "    with open(path + rf'_logging.txt', 'w') as file:\n",
    "        file.write(logging_str)\n",
    "\n",
    "    state_dict = model.state_dict()\n",
    "    torch.save(state_dict, path + rf'.pth')"
   ]
  },
  {
   "cell_type": "code",
   "execution_count": 6,
   "metadata": {
    "execution": {
     "iopub.execute_input": "2024-11-24T04:33:40.743952Z",
     "iopub.status.busy": "2024-11-24T04:33:40.743569Z",
     "iopub.status.idle": "2024-11-24T04:33:40.757288Z",
     "shell.execute_reply": "2024-11-24T04:33:40.756629Z",
     "shell.execute_reply.started": "2024-11-24T04:33:40.743928Z"
    },
    "trusted": true
   },
   "outputs": [],
   "source": [
    "class PositionalEmbedding(torch.nn.Module):\n",
    "    def __init__(self, embedding_dim, seq_max_len, N=10000.0):\n",
    "        super().__init__()\n",
    "        pe_arr = torch.zeros(seq_max_len, 1, embedding_dim)\n",
    "        embedding_pos = torch.arange(seq_max_len).unsqueeze(1)\n",
    "        div = torch.exp(torch.arange(0, embedding_dim, 2) * (-torch.log(torch.tensor(N)) / embedding_dim))\n",
    "        pe_arr[:, 0, 0::2] = torch.sin(embedding_pos * div)\n",
    "        pe_arr[:, 0, 1::2] = torch.cos(embedding_pos * div)\n",
    "        self.register_buffer(\"pe_arr\", pe_arr) \n",
    "        \n",
    "    def forward(self, x):\n",
    "        return self.pe_arr[:x.size(0)] + x \n",
    "    \n",
    "class Rezero_Block(nn.Module):\n",
    "    def __init__(self, embedding_dim, num_heads, dropout):\n",
    "        super(Rezero_Block, self).__init__()\n",
    "        self.embedding_dim = embedding_dim\n",
    "        self.num_heads = num_heads\n",
    "        self.dropout = dropout\n",
    "\n",
    "        #dropout layer \n",
    "        self.dropout_layer = nn.Dropout(dropout)\n",
    "\n",
    "        #attention layer \n",
    "        self.multihead_self_attention = nn.MultiheadAttention(embed_dim=embedding_dim, num_heads=num_heads, dropout=dropout, batch_first=True)\n",
    "\n",
    "        #feedforward layer \n",
    "        self.feedforward_layer = nn.Sequential(nn.Linear(in_features=embedding_dim, out_features=embedding_dim * 4),\n",
    "                                          nn.GELU(approximate='none'), \n",
    "                                          self.dropout_layer,\n",
    "                                          nn.Linear(in_features=embedding_dim * 4, out_features=embedding_dim),\n",
    "                                          self.dropout_layer\n",
    "                                          )\n",
    "\n",
    "        #res con paras \n",
    "        self.alpha_1 = nn.Parameter(torch.tensor(0.0))\n",
    "        self.alpha_2 = nn.Parameter(torch.tensor(0.0))\n",
    "\n",
    "\n",
    "\n",
    "    def forward(self, encoder_input):\n",
    "        #attention \n",
    "        attention_out, _ = self.multihead_self_attention(encoder_input, encoder_input, encoder_input)\n",
    "\n",
    "        #rezero\n",
    "        rescon_1 = (attention_out * self.alpha_1) + encoder_input\n",
    "\n",
    "        #feedforward\n",
    "        feedforward_out = self.feedforward_layer(rescon_1)\n",
    "        \n",
    "        #rezero\n",
    "        rescon_2 = (feedforward_out * self.alpha_2) + rescon_1\n",
    "\n",
    "        return rescon_2\n",
    "    \n",
    "\n",
    "#setting up the model \n",
    "class Rezero_ViT(nn.Module):\n",
    "    def __init__(self, embedding_dim, num_heads, num_encoder_blocks, num_classes, dropout):\n",
    "        super(Rezero_ViT, self).__init__()\n",
    "        #hyper paras\n",
    "        self.num_encoder_blocks = num_encoder_blocks\n",
    "        self.dropout = dropout\n",
    "        \n",
    "        #cls_embedding\n",
    "        self.cls_token = nn.Parameter(torch.empty(1, 1, embedding_dim))\n",
    "        nn.init.xavier_uniform_(self.cls_token)\n",
    "        \n",
    "        #positional embedding\n",
    "        self.pos_layer = PositionalEmbedding(embedding_dim, 197)\n",
    "        \n",
    "        #embedding conv \n",
    "        self.embedding_conv = nn.Conv2d(3, embedding_dim, kernel_size=(16, 16), stride=(16, 16))\n",
    "\n",
    "        #blocks\n",
    "        self.encoder_blocks = torch.nn.ModuleList(Rezero_Block(embedding_dim, num_heads, dropout) for _ in range(num_encoder_blocks))\n",
    "\n",
    "        #dropout\n",
    "        self.dropout_layer = nn.Dropout(self.dropout)\n",
    "        \n",
    "        #head\n",
    "        self.mlp_head = nn.Sequential(nn.Linear(embedding_dim, num_classes))\n",
    "\n",
    "    def forward(self, batch):\n",
    "        #getting cls \n",
    "        cls_token = self.cls_token.expand(batch.shape[0], -1, -1)\n",
    "        #embedding layer \n",
    "        patches = self.embedding_conv(batch).flatten(2).permute(0, 2, 1)\n",
    "        #combining them \n",
    "        pos_in = torch.cat((cls_token, patches), dim=1)\n",
    "        #positional embedding\n",
    "        encoder_in = self.pos_layer(pos_in)\n",
    "        \n",
    "        #this is an encoder block \n",
    "        for block in self.encoder_blocks:\n",
    "            encoder_in = block(encoder_in)\n",
    "   \n",
    "        #flattening and grabing cls\n",
    "        cls_output_token = encoder_in[:, 0, :]\n",
    "\n",
    "        #passing to mlp head\n",
    "        mlp_output = self.mlp_head(cls_output_token)\n",
    "\n",
    "        return mlp_output"
   ]
  },
  {
   "cell_type": "code",
   "execution_count": 7,
   "metadata": {
    "execution": {
     "iopub.execute_input": "2024-11-24T04:33:40.758565Z",
     "iopub.status.busy": "2024-11-24T04:33:40.758300Z",
     "iopub.status.idle": "2024-11-24T05:35:45.438353Z",
     "shell.execute_reply": "2024-11-24T05:35:45.437446Z",
     "shell.execute_reply.started": "2024-11-24T04:33:40.758542Z"
    },
    "trusted": true
   },
   "outputs": [
    {
     "name": "stdout",
     "output_type": "stream",
     "text": [
      "Number of parameters:  85616674\n",
      "\n"
     ]
    },
    {
     "name": "stderr",
     "output_type": "stream",
     "text": [
      "100%|██████████| 293/293 [02:51<00:00,  1.71it/s]\n"
     ]
    },
    {
     "name": "stdout",
     "output_type": "stream",
     "text": [
      "\n",
      "Epoch 1\n",
      "Train:      Loss = 2.1328240803891076, Accuracy = 0.2215466666666667\n",
      "Validation: Loss = 1.9675481981701322, Accuracy = 0.3066202090592334, Recall = 0.3060542463982706, Precision = 0.3408890725006349\n",
      "Epoch Time: 183 Seconds\n",
      "Current Patience: 0\n",
      "\n"
     ]
    },
    {
     "name": "stderr",
     "output_type": "stream",
     "text": [
      "100%|██████████| 293/293 [02:50<00:00,  1.72it/s]\n"
     ]
    },
    {
     "name": "stdout",
     "output_type": "stream",
     "text": [
      "\n",
      "Epoch 2\n",
      "Train:      Loss = 1.8825630551719015, Accuracy = 0.3438933333333333\n",
      "Validation: Loss = 1.8219202586582728, Accuracy = 0.3837730214036834, Recall = 0.3846268225779402, Precision = 0.3914486253735293\n",
      "Epoch Time: 182 Seconds\n",
      "Current Patience: 0\n",
      "\n"
     ]
    },
    {
     "name": "stderr",
     "output_type": "stream",
     "text": [
      "100%|██████████| 293/293 [02:50<00:00,  1.72it/s]\n"
     ]
    },
    {
     "name": "stdout",
     "output_type": "stream",
     "text": [
      "\n",
      "Epoch 3\n",
      "Train:      Loss = 1.7744242583525465, Accuracy = 0.3942400000000000\n",
      "Validation: Loss = 1.7125572098626032, Accuracy = 0.4340467894474863, Recall = 0.4339350104236736, Precision = 0.4431170067548047\n",
      "Epoch Time: 182 Seconds\n",
      "Current Patience: 0\n",
      "\n"
     ]
    },
    {
     "name": "stderr",
     "output_type": "stream",
     "text": [
      "100%|██████████| 293/293 [02:50<00:00,  1.72it/s]\n"
     ]
    },
    {
     "name": "stdout",
     "output_type": "stream",
     "text": [
      "\n",
      "Epoch 4\n",
      "Train:      Loss = 1.6407176703723216, Accuracy = 0.4429866666666666\n",
      "Validation: Loss = 1.5850177378881545, Accuracy = 0.4728720756595321, Recall = 0.4719239599995931, Precision = 0.4814705472420098\n",
      "Epoch Time: 183 Seconds\n",
      "Current Patience: 0\n",
      "\n"
     ]
    },
    {
     "name": "stderr",
     "output_type": "stream",
     "text": [
      "100%|██████████| 293/293 [02:50<00:00,  1.72it/s]\n"
     ]
    },
    {
     "name": "stdout",
     "output_type": "stream",
     "text": [
      "\n",
      "Epoch 5\n",
      "Train:      Loss = 1.5357080543407402, Accuracy = 0.4828800000000000\n",
      "Validation: Loss = 1.5412379181574261, Accuracy = 0.4828272772523644, Recall = 0.4811213097548526, Precision = 0.4920627450963483\n",
      "Epoch Time: 183 Seconds\n",
      "Current Patience: 0\n",
      "\n"
     ]
    },
    {
     "name": "stderr",
     "output_type": "stream",
     "text": [
      "100%|██████████| 293/293 [02:50<00:00,  1.72it/s]\n"
     ]
    },
    {
     "name": "stdout",
     "output_type": "stream",
     "text": [
      "\n",
      "Epoch 6\n",
      "Train:      Loss = 1.4557716726443060, Accuracy = 0.5075200000000000\n",
      "Validation: Loss = 1.5067605896601601, Accuracy = 0.4937779990044798, Recall = 0.4930870035714089, Precision = 0.5182335904335876\n",
      "Epoch Time: 183 Seconds\n",
      "Current Patience: 0\n",
      "\n"
     ]
    },
    {
     "name": "stderr",
     "output_type": "stream",
     "text": [
      "100%|██████████| 293/293 [02:50<00:00,  1.72it/s]\n"
     ]
    },
    {
     "name": "stdout",
     "output_type": "stream",
     "text": [
      "\n",
      "Epoch 7\n",
      "Train:      Loss = 1.3900357895743725, Accuracy = 0.5331200000000000\n",
      "Validation: Loss = 1.4033736312200153, Accuracy = 0.5281234444997511, Recall = 0.5268068635319052, Precision = 0.5407426658714595\n",
      "Epoch Time: 183 Seconds\n",
      "Current Patience: 0\n",
      "\n"
     ]
    },
    {
     "name": "stderr",
     "output_type": "stream",
     "text": [
      "100%|██████████| 293/293 [02:50<00:00,  1.72it/s]\n"
     ]
    },
    {
     "name": "stdout",
     "output_type": "stream",
     "text": [
      "\n",
      "Epoch 8\n",
      "Train:      Loss = 1.3239599466323853, Accuracy = 0.5552000000000000\n",
      "Validation: Loss = 1.3897897563283406, Accuracy = 0.5385764061722250, Recall = 0.5375505371458618, Precision = 0.5486424787834895\n",
      "Epoch Time: 183 Seconds\n",
      "Current Patience: 0\n",
      "\n"
     ]
    },
    {
     "name": "stderr",
     "output_type": "stream",
     "text": [
      "100%|██████████| 293/293 [02:50<00:00,  1.72it/s]\n"
     ]
    },
    {
     "name": "stdout",
     "output_type": "stream",
     "text": [
      "\n",
      "Epoch 9\n",
      "Train:      Loss = 1.2578192227122726, Accuracy = 0.5800533333333333\n",
      "Validation: Loss = 1.3247246221890525, Accuracy = 0.5709308113489299, Recall = 0.5695761752356052, Precision = 0.5782434801981904\n",
      "Epoch Time: 183 Seconds\n",
      "Current Patience: 0\n",
      "\n"
     ]
    },
    {
     "name": "stderr",
     "output_type": "stream",
     "text": [
      "100%|██████████| 293/293 [02:50<00:00,  1.71it/s]\n"
     ]
    },
    {
     "name": "stdout",
     "output_type": "stream",
     "text": [
      "\n",
      "Epoch 10\n",
      "Train:      Loss = 1.1818758163842731, Accuracy = 0.6034133333333334\n",
      "Validation: Loss = 1.3126388201637873, Accuracy = 0.5614733698357391, Recall = 0.5604457649474017, Precision = 0.5601357574500889\n",
      "Epoch Time: 183 Seconds\n",
      "Current Patience: 0\n",
      "\n"
     ]
    },
    {
     "name": "stderr",
     "output_type": "stream",
     "text": [
      "100%|██████████| 293/293 [02:50<00:00,  1.71it/s]\n"
     ]
    },
    {
     "name": "stdout",
     "output_type": "stream",
     "text": [
      "\n",
      "Epoch 11\n",
      "Train:      Loss = 1.1077227525336750, Accuracy = 0.6315733333333333\n",
      "Validation: Loss = 1.2868578131236728, Accuracy = 0.5644599303135889, Recall = 0.5628273650314900, Precision = 0.5837550856905718\n",
      "Epoch Time: 183 Seconds\n",
      "Current Patience: 0\n",
      "\n"
     ]
    },
    {
     "name": "stderr",
     "output_type": "stream",
     "text": [
      "100%|██████████| 293/293 [02:50<00:00,  1.71it/s]\n"
     ]
    },
    {
     "name": "stdout",
     "output_type": "stream",
     "text": [
      "\n",
      "Epoch 12\n",
      "Train:      Loss = 1.0514419347352948, Accuracy = 0.6504533333333333\n",
      "Validation: Loss = 1.2932867701091464, Accuracy = 0.5724240915878547, Recall = 0.5710498215860416, Precision = 0.5752739900410700\n",
      "Epoch Time: 183 Seconds\n",
      "Current Patience: 1\n",
      "\n"
     ]
    },
    {
     "name": "stderr",
     "output_type": "stream",
     "text": [
      "100%|██████████| 293/293 [02:50<00:00,  1.71it/s]\n"
     ]
    },
    {
     "name": "stdout",
     "output_type": "stream",
     "text": [
      "\n",
      "Epoch 13\n",
      "Train:      Loss = 0.9726446800874768, Accuracy = 0.6712533333333334\n",
      "Validation: Loss = 1.2905388966439262, Accuracy = 0.5729218516674963, Recall = 0.5713720908457116, Precision = 0.5998519053569848\n",
      "Epoch Time: 183 Seconds\n",
      "Current Patience: 2\n",
      "\n"
     ]
    },
    {
     "name": "stderr",
     "output_type": "stream",
     "text": [
      "100%|██████████| 293/293 [02:51<00:00,  1.71it/s]\n"
     ]
    },
    {
     "name": "stdout",
     "output_type": "stream",
     "text": [
      "\n",
      "Epoch 14\n",
      "Train:      Loss = 0.9054698320582458, Accuracy = 0.6985600000000000\n",
      "Validation: Loss = 1.2933207532716176, Accuracy = 0.5903434544549527, Recall = 0.5891227473949945, Precision = 0.5990032183826584\n",
      "Epoch Time: 183 Seconds\n",
      "Current Patience: 3\n",
      "\n"
     ]
    },
    {
     "name": "stderr",
     "output_type": "stream",
     "text": [
      "100%|██████████| 293/293 [02:51<00:00,  1.71it/s]\n"
     ]
    },
    {
     "name": "stdout",
     "output_type": "stream",
     "text": [
      "\n",
      "Epoch 15\n",
      "Train:      Loss = 0.7218610570088995, Accuracy = 0.7592533333333333\n",
      "Validation: Loss = 1.2219216747889443, Accuracy = 0.6082628173220508, Recall = 0.6070911756490051, Precision = 0.6057217622713726\n",
      "Epoch Time: 183 Seconds\n",
      "Current Patience: 0\n",
      "\n"
     ]
    },
    {
     "name": "stderr",
     "output_type": "stream",
     "text": [
      "100%|██████████| 293/293 [02:51<00:00,  1.71it/s]\n"
     ]
    },
    {
     "name": "stdout",
     "output_type": "stream",
     "text": [
      "\n",
      "Epoch 16\n",
      "Train:      Loss = 0.6482621920597025, Accuracy = 0.7890133333333333\n",
      "Validation: Loss = 1.2364438564058333, Accuracy = 0.6082628173220508, Recall = 0.6071364540105126, Precision = 0.6097307087955613\n",
      "Epoch Time: 183 Seconds\n",
      "Current Patience: 1\n",
      "\n"
     ]
    },
    {
     "name": "stderr",
     "output_type": "stream",
     "text": [
      "100%|██████████| 293/293 [02:51<00:00,  1.71it/s]\n"
     ]
    },
    {
     "name": "stdout",
     "output_type": "stream",
     "text": [
      "\n",
      "Epoch 17\n",
      "Train:      Loss = 0.6079166459854145, Accuracy = 0.8032000000000000\n",
      "Validation: Loss = 1.2651762205456931, Accuracy = 0.6082628173220508, Recall = 0.6071779113582177, Precision = 0.6095323638956243\n",
      "Epoch Time: 183 Seconds\n",
      "Current Patience: 2\n",
      "\n"
     ]
    },
    {
     "name": "stderr",
     "output_type": "stream",
     "text": [
      "100%|██████████| 293/293 [02:51<00:00,  1.71it/s]\n"
     ]
    },
    {
     "name": "stdout",
     "output_type": "stream",
     "text": [
      "\n",
      "Epoch 18\n",
      "Train:      Loss = 0.5681083943351544, Accuracy = 0.8168533333333333\n",
      "Validation: Loss = 1.2825740405491419, Accuracy = 0.6102538576406172, Recall = 0.6090023998053239, Precision = 0.6114235912610262\n",
      "Epoch Time: 183 Seconds\n",
      "Current Patience: 3\n",
      "\n"
     ]
    },
    {
     "name": "stderr",
     "output_type": "stream",
     "text": [
      "100%|██████████| 293/293 [02:51<00:00,  1.71it/s]\n"
     ]
    },
    {
     "name": "stdout",
     "output_type": "stream",
     "text": [
      "\n",
      "Epoch 19\n",
      "Train:      Loss = 0.5337114923541456, Accuracy = 0.8321066666666667\n",
      "Validation: Loss = 1.2835514498135401, Accuracy = 0.6082628173220508, Recall = 0.6071657180206574, Precision = 0.6103528652579162\n",
      "Epoch Time: 183 Seconds\n",
      "Current Patience: 4\n",
      "\n"
     ]
    },
    {
     "name": "stderr",
     "output_type": "stream",
     "text": [
      "100%|██████████| 293/293 [02:51<00:00,  1.71it/s]\n"
     ]
    },
    {
     "name": "stdout",
     "output_type": "stream",
     "text": [
      "\n",
      "Epoch 20\n",
      "Train:      Loss = 0.5290325387752911, Accuracy = 0.8313600000000000\n",
      "Validation: Loss = 1.2851774077566842, Accuracy = 0.6072672971627675, Recall = 0.6061829350132927, Precision = 0.6084481400848220\n",
      "Epoch Time: 183 Seconds\n",
      "Current Patience: 5\n",
      "\n",
      "Early Stopper Triggered\n",
      "Kept Epoch: 15\n",
      "Train Loss = 0.7218610570088995, Accuracy = 0.7592533333333333\n",
      "Val   Loss = 1.2219216747889443, Accuracy = 0.6082628173220508, Recall = 0.6070911756490051, Precision = 0.6057217622713726\n",
      "Total Training Time: 3660 Seconds\n",
      "\n",
      "Test: Loss = 1.2906090494186160, Accuracy = 0.5970149253731343, Recall = 0.5957597440416310, Precision = 0.5939199999686650\n",
      "Total Inference Time: 11.975943565368652 Seconds\n"
     ]
    },
    {
     "data": {
      "image/png": "[encoded data removed]",
      "text/plain": [
       "<Figure size 2400x600 with 4 Axes>"
      ]
     },
     "metadata": {},
     "output_type": "display_data"
    }
   ],
   "source": [
    "import torchvision as tv\n",
    "def run_job():\n",
    "    seed()\n",
    "    train_loader, val_loader, test_loader = create_loaders(rank, batch_size=32)\n",
    "    #model hyperparas \n",
    "    #embedding dim \n",
    "    embedding_dim = 768\n",
    "    #num heads \n",
    "    num_heads = 12\n",
    "    #encoder blocks \n",
    "    num_encoder_blocks = 12\n",
    "    #num classes for mlp head \n",
    "    num_classes = 10\n",
    "    #dropout \n",
    "    dropout = .1\n",
    "\n",
    "    #training hyperparas \n",
    "    #num epochs to train\n",
    "    num_epochs = 1000\n",
    "    #patience\n",
    "    patience = 5\n",
    "    #max lr \n",
    "    lr = 1e-4\n",
    "    #saving the model, config, logging, and figure\n",
    "    saving_path = rf'/kaggle/working/rezero_model'\n",
    "\n",
    "    model = Rezero_ViT(embedding_dim, num_heads, num_encoder_blocks, num_classes, dropout).to(rank)\n",
    "   \n",
    "    #loss function\n",
    "    loss_func = nn.CrossEntropyLoss()\n",
    "\n",
    "    #optimizer\n",
    "    optimizer = torch.optim.Adam(model.parameters(), lr=lr)\n",
    "\n",
    "    #lr scheduler \n",
    "    scheduler = torch.optim.lr_scheduler.ReduceLROnPlateau(optimizer, patience=2)\n",
    "    \n",
    "    #init early stopper \n",
    "    early_stopper = EarlyStoppingLoss(patience)\n",
    "\n",
    "    total_params = sum(para.numel() for para in model.parameters())\n",
    "    print(\"Number of parameters: \", total_params)\n",
    "    print()\n",
    "    # print(\"The number of parameters each part of the transfromer model\")\n",
    "    # for name, param in model.named_parameters():\n",
    "    #     print(f\"Layer: {name}, Parameters: {param.numel()}\")\n",
    "\n",
    "    config = {'embedding_dim': embedding_dim, 'num_heads': num_heads, 'num_encoder_blocks': num_encoder_blocks, 'num_classes': num_classes, 'num_epochs': num_epochs, 'dropout': dropout, \n",
    "              'patience': patience, 'lr': lr, 'total_parameters': total_params}\n",
    "    \n",
    "    #model training and testing\n",
    "    model, history, final_stats_dict, logging_str = train(model, train_loader, val_loader, \n",
    "                                                          loss_func, optimizer, early_stopper, \n",
    "                                                          scheduler, num_epochs)\n",
    "    #run test partition \n",
    "    test_dict = test(model, test_loader, loss_func)\n",
    "\n",
    "    #plot figure\n",
    "    fig = plot(history, final_stats_dict, test_dict)\n",
    "    fig.suptitle(f'Loss Over Epochs')\n",
    "\n",
    "    save_model(saving_path, fig, config, model, logging_str)\n",
    "    \n",
    "run_job()"
   ]
  }
 ],
 "metadata": {
  "kaggle": {
   "accelerator": "gpu",
   "dataSources": [
    {
     "datasetId": 6139720,
     "sourceId": 9978339,
     "sourceType": "datasetVersion"
    }
   ],
   "dockerImageVersionId": 30787,
   "isGpuEnabled": true,
   "isInternetEnabled": true,
   "language": "python",
   "sourceType": "notebook"
  },
  "kernelspec": {
   "display_name": "Python 3",
   "language": "python",
   "name": "python3"
  },
  "language_info": {
   "codemirror_mode": {
    "name": "ipython",
    "version": 3
   },
   "file_extension": ".py",
   "mimetype": "text/x-python",
   "name": "python",
   "nbconvert_exporter": "python",
   "pygments_lexer": "ipython3",
   "version": "3.10.14"
  }
 },
 "nbformat": 4,
 "nbformat_minor": 4
}
